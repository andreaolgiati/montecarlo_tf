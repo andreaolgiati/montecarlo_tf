{
 "cells": [
  {
   "cell_type": "markdown",
   "metadata": {},
   "source": [
    "# Simple Montecarlo Example"
   ]
  },
  {
   "cell_type": "code",
   "execution_count": 1,
   "metadata": {},
   "outputs": [],
   "source": [
    "%load_ext autoreload\n",
    "%autoreload 2"
   ]
  },
  {
   "cell_type": "markdown",
   "metadata": {},
   "source": [
    "First, we run a simple training session"
   ]
  },
  {
   "cell_type": "markdown",
   "metadata": {},
   "source": [
    "## Train a Simple Model"
   ]
  },
  {
   "cell_type": "code",
   "execution_count": 2,
   "metadata": {},
   "outputs": [
    {
     "name": "stdout",
     "output_type": "stream",
     "text": [
      "/Users/olg/anaconda3/lib/python3.6/site-packages/h5py/__init__.py:36: FutureWarning: Conversion of the second argument of issubdtype from `float` to `np.floating` is deprecated. In future, it will be treated as `np.float64 == np.dtype(float).type`.\n",
      "  from ._conv import register_converters as _register_converters\n",
      "[]\n",
      "2019-04-05 14:34:02.094580: I tensorflow/core/platform/cpu_feature_guard.cc:141] Your CPU supports instructions that this TensorFlow binary was not compiled to use: AVX2 FMA\n",
      "Epoch: 0050 cost= 3104.478515625 W= 0.7013317 b= -0.7513837\n",
      "Epoch: 0100 cost= 1663.492919922 W= 1.2167331 b= -0.70078397\n",
      "Epoch: 0150 cost= 1494.956542969 W= 1.676906 b= -0.6461264\n",
      "Epoch: 0200 cost= 1425.953125000 W= 2.0596466 b= -0.5902155\n",
      "Epoch: 0250 cost= 1009.103332520 W= 2.4021945 b= -0.5360564\n",
      "Epoch: 0300 cost= 705.229492188 W= 2.7332413 b= -0.48922735\n",
      "Epoch: 0350 cost= 478.398620605 W= 3.005212 b= -0.44201857\n",
      "Epoch: 0400 cost= 518.774963379 W= 3.246182 b= -0.39722693\n",
      "Epoch: 0450 cost= 328.689178467 W= 3.4639752 b= -0.35197446\n",
      "Epoch: 0500 cost= 241.467010498 W= 3.6502717 b= -0.3094025\n",
      "Epoch: 0550 cost= 280.714019775 W= 3.8181856 b= -0.26564384\n",
      "Epoch: 0600 cost= 198.021194458 W= 3.9535081 b= -0.22703297\n",
      "Epoch: 0650 cost= 108.798309326 W= 4.081209 b= -0.1882491\n",
      "Epoch: 0700 cost= 189.149810791 W= 4.1930227 b= -0.15221645\n",
      "Epoch: 0750 cost= 107.404037476 W= 4.285808 b= -0.11698401\n",
      "Epoch: 0800 cost= 73.476333618 W= 4.371567 b= -0.0808937\n",
      "Epoch: 0850 cost= 106.359664917 W= 4.444995 b= -0.04486037\n",
      "Epoch: 0900 cost= 64.442176819 W= 4.512281 b= -0.012128983\n",
      "Epoch: 0950 cost= 53.648712158 W= 4.567168 b= 0.0202387\n",
      "Epoch: 1000 cost= 30.302829742 W= 4.6142807 b= 0.050275657\n",
      "Epoch: 1050 cost= 35.762660980 W= 4.660774 b= 0.08014039\n",
      "Epoch: 1100 cost= 37.248489380 W= 4.7013717 b= 0.10883157\n",
      "Epoch: 1150 cost= 30.380115509 W= 4.736521 b= 0.1370139\n",
      "Epoch: 1200 cost= 21.660240173 W= 4.7717414 b= 0.16488639\n",
      "Epoch: 1250 cost= 25.316766739 W= 4.799397 b= 0.19120912\n",
      "Epoch: 1300 cost= 19.280723572 W= 4.823636 b= 0.21674597\n",
      "Epoch: 1350 cost= 21.117469788 W= 4.8464885 b= 0.24185474\n",
      "Epoch: 1400 cost= 23.764495850 W= 4.8645506 b= 0.2658139\n",
      "Epoch: 1450 cost= 18.386499405 W= 4.881115 b= 0.2889906\n",
      "Epoch: 1500 cost= 16.579418182 W= 4.8959556 b= 0.3113575\n",
      "Epoch: 1550 cost= 17.144813538 W= 4.910403 b= 0.33369228\n",
      "Epoch: 1600 cost= 13.379016876 W= 4.920779 b= 0.354616\n",
      "Epoch: 1650 cost= 12.185771942 W= 4.9320707 b= 0.3751686\n",
      "Epoch: 1700 cost= 11.432811737 W= 4.939311 b= 0.39475897\n",
      "Epoch: 1750 cost= 11.310764313 W= 4.9465966 b= 0.41381618\n",
      "Epoch: 1800 cost= 10.330074310 W= 4.9523945 b= 0.4322404\n",
      "Epoch: 1850 cost= 8.872965813 W= 4.958421 b= 0.45015568\n",
      "Epoch: 1900 cost= 8.438053131 W= 4.9635134 b= 0.46749598\n",
      "Epoch: 1950 cost= 7.872981548 W= 4.968791 b= 0.48432875\n",
      "Epoch: 2000 cost= 8.336534500 W= 4.9731116 b= 0.50060093\n",
      "Epoch: 2050 cost= 7.609213829 W= 4.9755263 b= 0.5165937\n",
      "Epoch: 2100 cost= 7.013118744 W= 4.9788394 b= 0.5318374\n",
      "Epoch: 2150 cost= 6.586425304 W= 4.9812603 b= 0.5465862\n",
      "Epoch: 2200 cost= 6.243880272 W= 4.982998 b= 0.56084937\n",
      "Epoch: 2250 cost= 5.699948311 W= 4.984443 b= 0.57466114\n",
      "Epoch: 2300 cost= 5.558917999 W= 4.9856005 b= 0.58803207\n",
      "Epoch: 2350 cost= 5.212590218 W= 4.98683 b= 0.6009916\n",
      "Epoch: 2400 cost= 4.797630310 W= 4.98936 b= 0.61358887\n",
      "Epoch: 2450 cost= 4.442147255 W= 4.991138 b= 0.6257774\n",
      "Epoch: 2500 cost= 4.126601696 W= 4.9918466 b= 0.6375591\n",
      "Epoch: 2550 cost= 3.928132296 W= 4.9918237 b= 0.6491782\n",
      "Epoch: 2600 cost= 3.665983677 W= 4.992256 b= 0.66021794\n",
      "Epoch: 2650 cost= 3.534267426 W= 4.994088 b= 0.67094195\n",
      "Epoch: 2700 cost= 3.252343178 W= 4.99574 b= 0.68132484\n",
      "Epoch: 2750 cost= 3.045653343 W= 4.995895 b= 0.69135946\n",
      "Epoch: 2800 cost= 2.893051863 W= 4.9967194 b= 0.70108795\n",
      "Epoch: 2850 cost= 2.680438042 W= 4.9978795 b= 0.71051204\n",
      "Epoch: 2900 cost= 2.538970947 W= 4.9980116 b= 0.7196313\n",
      "Epoch: 2950 cost= 2.349298000 W= 4.9974504 b= 0.7284573\n",
      "Epoch: 3000 cost= 2.214486122 W= 4.9973865 b= 0.73700845\n",
      "Epoch: 3050 cost= 2.088366747 W= 4.998016 b= 0.7454597\n",
      "Epoch: 3100 cost= 1.937028408 W= 4.9983263 b= 0.7534794\n",
      "Epoch: 3150 cost= 1.811967850 W= 4.997631 b= 0.7612378\n",
      "Epoch: 3200 cost= 1.710502386 W= 4.997898 b= 0.7687598\n",
      "Epoch: 3250 cost= 1.597610116 W= 4.9984303 b= 0.7760472\n",
      "Epoch: 3300 cost= 1.503800392 W= 4.998497 b= 0.783102\n",
      "Epoch: 3350 cost= 1.400514722 W= 4.9979277 b= 0.789929\n",
      "Epoch: 3400 cost= 1.329179525 W= 4.9980545 b= 0.7965462\n",
      "Epoch: 3450 cost= 1.242376089 W= 4.9978285 b= 0.802951\n",
      "Epoch: 3500 cost= 1.166643977 W= 4.9978275 b= 0.80915624\n",
      "Epoch: 3550 cost= 1.089497328 W= 4.9982514 b= 0.81528884\n",
      "Epoch: 3600 cost= 1.023120880 W= 4.998481 b= 0.82110864\n",
      "Epoch: 3650 cost= 0.960313916 W= 4.998541 b= 0.82674366\n",
      "Epoch: 3700 cost= 0.900202394 W= 4.9992857 b= 0.83220595\n",
      "Epoch: 3750 cost= 0.845032334 W= 4.9992185 b= 0.83749133\n",
      "Epoch: 3800 cost= 0.796721697 W= 4.9991636 b= 0.84261024\n",
      "Epoch: 3850 cost= 0.743019581 W= 4.9997945 b= 0.8475704\n",
      "Epoch: 3900 cost= 0.697003245 W= 4.9995384 b= 0.8523719\n",
      "Epoch: 3950 cost= 0.654606044 W= 4.9998517 b= 0.85702324\n",
      "Epoch: 4000 cost= 0.613500118 W= 5.0000286 b= 0.8615276\n",
      "Epoch: 4050 cost= 0.575457454 W= 5.000058 b= 0.8659759\n",
      "Epoch: 4100 cost= 0.538525939 W= 4.9998646 b= 0.870198\n",
      "Epoch: 4150 cost= 0.505667806 W= 4.9997463 b= 0.8742871\n",
      "Epoch: 4200 cost= 0.474307775 W= 5.0000124 b= 0.8782477\n",
      "Epoch: 4250 cost= 0.445403099 W= 5.0001955 b= 0.8820833\n",
      "Epoch: 4300 cost= 0.416171432 W= 5.000368 b= 0.8857978\n",
      "Epoch: 4350 cost= 0.392329484 W= 5.0003185 b= 0.88939565\n",
      "Epoch: 4400 cost= 0.367379904 W= 5.0000825 b= 0.8928806\n",
      "Epoch: 4450 cost= 0.344403565 W= 5.000037 b= 0.8962553\n",
      "Epoch: 4500 cost= 0.323011279 W= 5.0001183 b= 0.8995237\n",
      "Epoch: 4550 cost= 0.302975118 W= 4.9999156 b= 0.9027516\n",
      "Epoch: 4600 cost= 0.283939958 W= 4.9997935 b= 0.9058152\n",
      "Epoch: 4650 cost= 0.266317874 W= 4.9999204 b= 0.9087825\n",
      "Epoch: 4700 cost= 0.249611080 W= 4.9999394 b= 0.9116563\n",
      "Epoch: 4750 cost= 0.234209821 W= 5.0000706 b= 0.91443944\n",
      "Epoch: 4800 cost= 0.219950169 W= 5.0001707 b= 0.91713476\n",
      "Epoch: 4850 cost= 0.206104517 W= 5.0000553 b= 0.91974545\n",
      "Epoch: 4900 cost= 0.193018973 W= 4.999865 b= 0.92227376\n",
      "Epoch: 4950 cost= 0.181501508 W= 4.999868 b= 0.92472243\n",
      "Epoch: 5000 cost= 0.170424819 W= 5.0001693 b= 0.9270939\n",
      "Optimization Finished!\n",
      "Training cost= 0.17042482 W= 5.0001493 b= 0.92714065\n"
     ]
    }
   ],
   "source": [
    "!rm -rf ts_outputs/train\n",
    "!rm -rf model\n",
    "!python ./simplemodel_train.py"
   ]
  },
  {
   "cell_type": "markdown",
   "metadata": {},
   "source": [
    "This will deposit a model in `./model`"
   ]
  },
  {
   "cell_type": "code",
   "execution_count": 3,
   "metadata": {},
   "outputs": [
    {
     "name": "stdout",
     "output_type": "stream",
     "text": [
      "total 48\r\n",
      "-rw-r--r--  1 olg  ANT\\Domain Users     67 Apr  5 14:34 checkpoint\r\n",
      "-rw-r--r--  1 olg  ANT\\Domain Users      8 Apr  5 14:34 model.data-00000-of-00001\r\n",
      "-rw-r--r--  1 olg  ANT\\Domain Users    142 Apr  5 14:34 model.index\r\n",
      "-rw-r--r--  1 olg  ANT\\Domain Users  35877 Apr  5 14:34 model.meta\r\n"
     ]
    }
   ],
   "source": [
    "!ls -l ./model/"
   ]
  },
  {
   "cell_type": "markdown",
   "metadata": {},
   "source": [
    "And will deposit the Tornasole/Montecarlo data in `./ts_output/train/`\n"
   ]
  },
  {
   "cell_type": "code",
   "execution_count": 4,
   "metadata": {},
   "outputs": [
    {
     "name": "stdout",
     "output_type": "stream",
     "text": [
      "total 0\r\n",
      "drwxr-xr-x  513 olg  ANT\\Domain Users  16416 Apr  5 14:34 \u001b[34mf737ea16-0914-4ae5-939b-3c63c7402e31\u001b[m\u001b[m\r\n"
     ]
    }
   ],
   "source": [
    "!ls -l ./ts_outputs/train/"
   ]
  },
  {
   "cell_type": "markdown",
   "metadata": {},
   "source": [
    "## Run Inference on the Trained Model"
   ]
  },
  {
   "cell_type": "markdown",
   "metadata": {},
   "source": [
    "Now we load the model we previously deposited in `./model` and run inference. The Tornasole/Montecarlo traces will be deposited in `./ts_output/infer`. We only trace three tensors: `X:0` (the input), `product:0` (an intermediate result), `pred:0` (the output)"
   ]
  },
  {
   "cell_type": "code",
   "execution_count": 5,
   "metadata": {},
   "outputs": [
    {
     "name": "stdout",
     "output_type": "stream",
     "text": [
      "/Users/olg/anaconda3/lib/python3.6/site-packages/h5py/__init__.py:36: FutureWarning: Conversion of the second argument of issubdtype from `float` to `np.floating` is deprecated. In future, it will be treated as `np.float64 == np.dtype(float).type`.\n",
      "  from ._conv import register_converters as _register_converters\n",
      "['^product:0$', '^X:0$', '^Y_hat:0$']\n",
      "2019-04-05 14:34:20.342901: I tensorflow/core/platform/cpu_feature_guard.cc:141] Your CPU supports instructions that this TensorFlow binary was not compiled to use: AVX2 FMA\n",
      "Running sample 0\n",
      "Running sample 10\n",
      "Running sample 20\n",
      "Running sample 30\n",
      "Running sample 40\n",
      "Running sample 50\n",
      "Running sample 60\n",
      "Running sample 70\n",
      "Running sample 80\n",
      "Running sample 90\n"
     ]
    }
   ],
   "source": [
    "!rm -rf ts_outputs/infer\n",
    "!python simplemodel_infer.py"
   ]
  },
  {
   "cell_type": "markdown",
   "metadata": {},
   "source": [
    "The output of the Montecarlo trace is deposited in `ts_outputs/infer/`. Each directory shown below contains the trace for a single batch (of size==1, in this case)"
   ]
  },
  {
   "cell_type": "code",
   "execution_count": 6,
   "metadata": {},
   "outputs": [
    {
     "name": "stdout",
     "output_type": "stream",
     "text": [
      "total 0\r\n",
      "drwxr-xr-x  4 olg  ANT\\Domain Users  128 Apr  5 14:34 0\r\n",
      "drwxr-xr-x  4 olg  ANT\\Domain Users  128 Apr  5 14:34 1\r\n",
      "drwxr-xr-x  4 olg  ANT\\Domain Users  128 Apr  5 14:34 10\r\n",
      "drwxr-xr-x  4 olg  ANT\\Domain Users  128 Apr  5 14:34 11\r\n",
      "drwxr-xr-x  4 olg  ANT\\Domain Users  128 Apr  5 14:34 12\r\n",
      "drwxr-xr-x  4 olg  ANT\\Domain Users  128 Apr  5 14:34 13\r\n",
      "drwxr-xr-x  4 olg  ANT\\Domain Users  128 Apr  5 14:34 14\r\n",
      "drwxr-xr-x  4 olg  ANT\\Domain Users  128 Apr  5 14:34 15\r\n",
      "drwxr-xr-x  4 olg  ANT\\Domain Users  128 Apr  5 14:34 16\r\n"
     ]
    }
   ],
   "source": [
    "!ls -l ./ts_outputs/infer/*/ | head"
   ]
  },
  {
   "cell_type": "markdown",
   "metadata": {},
   "source": [
    "## Running MonteCarlo"
   ]
  },
  {
   "cell_type": "markdown",
   "metadata": {},
   "source": [
    "Now we have traces for a single training run, which ran for multiple batches, in `./ts_outputs/train/`, and a single inference run, which ran for 100 batches of size==1, in `./ts_outputs/infer/`. \n",
    "\n",
    "Let's say that we want to compare the distribution of inputs, intermediate results, and outputs."
   ]
  },
  {
   "cell_type": "code",
   "execution_count": 7,
   "metadata": {},
   "outputs": [
    {
     "name": "stderr",
     "output_type": "stream",
     "text": [
      "/Users/olg/anaconda3/lib/python3.6/site-packages/h5py/__init__.py:36: FutureWarning: Conversion of the second argument of issubdtype from `float` to `np.floating` is deprecated. In future, it will be treated as `np.float64 == np.dtype(float).type`.\n",
      "  from ._conv import register_converters as _register_converters\n"
     ]
    }
   ],
   "source": [
    "%matplotlib inline\n",
    "\n",
    "import matplotlib\n",
    "import numpy as np\n",
    "import matplotlib.pyplot as plt\n",
    "import os\n",
    "import sys\n",
    "\n",
    "# Adjust this path to match your Tornasole installation\n",
    "sys.path.append('/Users/olg/Software/tornasole_tf/')\n",
    "\n",
    "from tornasole_rules.run_catalog import LocalRunCatalog\n",
    "from tornasole_rules.local_run import LocalRun\n",
    "\n",
    "tdir = \"./ts_outputs/train\"\n",
    "idir = \"./ts_outputs/infer\"\n",
    "\n",
    "# We scan the disc to find the training run\n",
    "training_run_catalog = LocalRunCatalog(tdir)\n",
    "inference_run_catalog = LocalRunCatalog(idir)"
   ]
  },
  {
   "cell_type": "code",
   "execution_count": 8,
   "metadata": {},
   "outputs": [
    {
     "name": "stdout",
     "output_type": "stream",
     "text": [
      "Training Run f737ea16-0914-4ae5-939b-3c63c7402e31\n"
     ]
    }
   ],
   "source": [
    "training_run_names = training_run_catalog.list_candidates()\n",
    "for training_run_name in training_run_names:\n",
    "    print( f'Training Run {training_run_name}')\n",
    "    tr = LocalRun(training_run_name, os.path.join(tdir,training_run_name))"
   ]
  },
  {
   "cell_type": "code",
   "execution_count": 9,
   "metadata": {},
   "outputs": [
    {
     "name": "stdout",
     "output_type": "stream",
     "text": [
      "Inference Run 1887d3d1-8d37-45e4-b6c2-6f1bcb06b6ab\n"
     ]
    }
   ],
   "source": [
    "inference_run_names = inference_run_catalog.list_candidates()\n",
    "for inference_run_name in inference_run_names:\n",
    "    print( f'Inference Run {inference_run_name}')\n",
    "    ir = LocalRun(inference_run_name, os.path.join(idir,inference_run_name))\n"
   ]
  },
  {
   "cell_type": "markdown",
   "metadata": {},
   "source": [
    "We want to find which steps of the training run we have traces for"
   ]
  },
  {
   "cell_type": "code",
   "execution_count": 10,
   "metadata": {},
   "outputs": [
    {
     "name": "stdout",
     "output_type": "stream",
     "text": [
      "We have information for 511 steps of the training run\n"
     ]
    },
    {
     "data": {
      "image/png": "[encoded data removed]",
      "text/plain": [
       "<Figure size 432x288 with 1 Axes>"
      ]
     },
     "metadata": {},
     "output_type": "display_data"
    }
   ],
   "source": [
    "print( f'We have information for {len(tr.getsteps())} steps of the training run' )\n",
    "\n",
    "def all_vals(run, name):\n",
    "    vs = []\n",
    "    for st in run.getsteps():\n",
    "        v = run.step(st).get_tensor(name).as_numpy()\n",
    "        #print(v)\n",
    "        vs.append(v)\n",
    "    return np.array(vs)\n",
    "\n",
    "xs_train = all_vals(tr,\"X:0\").flatten()\n",
    "ys_train = all_vals(tr,\"Y:0\").flatten()\n",
    "y_hats_train = all_vals(tr, \"Y_hat:0\").flatten()\n",
    "\n",
    "plt.hist(ys_train,bins=50, alpha=0.3, label=\"X: input values\")\n",
    "plt.hist(y_hats_train,bins=50, alpha=0.3, label=\"Y_hat: predicted output values\")\n",
    "plt.hist(xs_train,bins=50, alpha=0.3, label=\"Y: output values\")\n",
    "plt.legend()\n",
    "plt.show()"
   ]
  },
  {
   "cell_type": "markdown",
   "metadata": {},
   "source": [
    "We can do the same for the inference runs. Notice the difference in distribution between training and inference inputs."
   ]
  },
  {
   "cell_type": "code",
   "execution_count": 11,
   "metadata": {},
   "outputs": [
    {
     "data": {
      "image/png": "[encoded data removed]",
      "text/plain": [
       "<Figure size 432x288 with 1 Axes>"
      ]
     },
     "metadata": {},
     "output_type": "display_data"
    }
   ],
   "source": [
    "xs_infer = all_vals(ir,\"X:0\").flatten()\n",
    "plt.hist(xs_train, bins=50, alpha=0.5, label=\"Training inputs\")\n",
    "plt.hist(xs_infer, bins=50, alpha=0.5, label=\"Inference inputs\")\n",
    "plt.legend()\n",
    "plt.show()"
   ]
  },
  {
   "cell_type": "markdown",
   "metadata": {},
   "source": [
    "We can also look at values _inside_, say a tensor named `product`. Again, note the difference between training and inference."
   ]
  },
  {
   "cell_type": "code",
   "execution_count": 12,
   "metadata": {},
   "outputs": [
    {
     "data": {
      "image/png": "[encoded data removed]",
      "text/plain": [
       "<Figure size 432x288 with 1 Axes>"
      ]
     },
     "metadata": {},
     "output_type": "display_data"
    }
   ],
   "source": [
    "product_train = all_vals(tr, \"product:0\").flatten()\n",
    "product_infer = all_vals(ir, \"product:0\").flatten()\n",
    "\n",
    "plt.hist(product_train, bins=50, alpha=0.5, label=\"Training intermediate product\")\n",
    "plt.hist(product_infer, bins=50, alpha=0.5, label=\"Inference intermediate product\")\n",
    "plt.legend()\n",
    "plt.show()\n"
   ]
  }
 ],
 "metadata": {
  "kernelspec": {
   "display_name": "Python 3",
   "language": "python",
   "name": "python3"
  },
  "language_info": {
   "codemirror_mode": {
    "name": "ipython",
    "version": 3
   },
   "file_extension": ".py",
   "mimetype": "text/x-python",
   "name": "python",
   "nbconvert_exporter": "python",
   "pygments_lexer": "ipython3",
   "version": "3.6.4"
  }
 },
 "nbformat": 4,
 "nbformat_minor": 2
}

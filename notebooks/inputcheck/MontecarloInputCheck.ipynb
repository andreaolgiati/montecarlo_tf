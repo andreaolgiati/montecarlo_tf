{
 "cells": [
  {
   "cell_type": "markdown",
   "metadata": {},
   "source": [
    "# Simple Montecarlo Example"
   ]
  },
  {
   "cell_type": "code",
   "execution_count": 1,
   "metadata": {},
   "outputs": [],
   "source": [
    "%load_ext autoreload\n",
    "%autoreload 2"
   ]
  },
  {
   "cell_type": "code",
   "execution_count": 2,
   "metadata": {},
   "outputs": [],
   "source": [
    "def all_vals(run, name):\n",
    "    vs = []\n",
    "    for st in run.getsteps():\n",
    "        v = run.step(st).get_tensor(name).as_numpy()\n",
    "        vs.append(v)\n",
    "    return np.array(vs)"
   ]
  },
  {
   "cell_type": "markdown",
   "metadata": {},
   "source": [
    "This notebook will show how to run Montecarlo to capture the inputs/outputs/intermediate layers of an inference run and compare it with the corresponding data from the training run"
   ]
  },
  {
   "cell_type": "markdown",
   "metadata": {},
   "source": [
    "## Train a Simple Model"
   ]
  },
  {
   "cell_type": "markdown",
   "metadata": {},
   "source": [
    "This very simple model learns the coefficients of a simple linear equation: `y_hat=Wx+b`. The data we feed to it follows the formula `y=5x+1`, so we should converge to `W==5` and `b==1`"
   ]
  },
  {
   "cell_type": "code",
   "execution_count": 17,
   "metadata": {},
   "outputs": [
    {
     "name": "stdout",
     "output_type": "stream",
     "text": [
      "2019-04-26 16:47:18.797526: I tensorflow/core/platform/cpu_feature_guard.cc:141] Your CPU supports instructions that this TensorFlow binary was not compiled to use: AVX2 FMA\n",
      "Epoch: 0001 cost= 24848.214843750 W= -0.17271397 b= 0.66170704\n",
      "Epoch: 0101 cost= 458.329559326 W= 4.337546 b= 0.80482745\n",
      "Epoch: 0201 cost= 7.844162464 W= 4.918249 b= 0.88463634\n",
      "Epoch: 0301 cost= 1.285287023 W= 4.989703 b= 0.9312211\n",
      "Epoch: 0401 cost= 0.432488054 W= 4.9987516 b= 0.9588612\n",
      "Epoch: 0501 cost= 0.155153424 W= 4.9996114 b= 0.97537035\n",
      "Epoch: 0601 cost= 0.055579536 W= 4.999961 b= 0.9852583\n",
      "Epoch: 0701 cost= 0.019923627 W= 5.000009 b= 0.9911774\n",
      "Epoch: 0801 cost= 0.007133640 W= 5.0000134 b= 0.9947197\n",
      "Epoch: 0901 cost= 0.002556968 W= 4.9999995 b= 0.99683964\n",
      "Optimization Finished!\n",
      "Training cost= 0.0009253842 W= 4.999998 b= 0.99809885\n"
     ]
    }
   ],
   "source": [
    "!rm -rf ts_outputs/train\n",
    "!rm -rf model\n",
    "!python ./simplemodel_train.py --mean 0 --stddev 2 --batchsize 256 --epochs 1000"
   ]
  },
  {
   "cell_type": "markdown",
   "metadata": {},
   "source": [
    "This will deposit a model in `./model`"
   ]
  },
  {
   "cell_type": "code",
   "execution_count": 14,
   "metadata": {},
   "outputs": [
    {
     "name": "stdout",
     "output_type": "stream",
     "text": [
      "total 48\r\n",
      "-rw-r--r--  1 olg  ANT\\Domain Users     67 Apr 26 14:49 checkpoint\r\n",
      "-rw-r--r--  1 olg  ANT\\Domain Users      8 Apr 26 14:49 model.data-00000-of-00001\r\n",
      "-rw-r--r--  1 olg  ANT\\Domain Users    142 Apr 26 14:49 model.index\r\n",
      "-rw-r--r--  1 olg  ANT\\Domain Users  35877 Apr 26 14:49 model.meta\r\n"
     ]
    }
   ],
   "source": [
    "!ls -l ./model/"
   ]
  },
  {
   "cell_type": "markdown",
   "metadata": {},
   "source": [
    "And will deposit the Tornasole/Montecarlo data in `./ts_output/train/`\n"
   ]
  },
  {
   "cell_type": "code",
   "execution_count": 18,
   "metadata": {},
   "outputs": [
    {
     "name": "stdout",
     "output_type": "stream",
     "text": [
      "total 0\r\n",
      "drwxr-xr-x  104 olg  ANT\\Domain Users  3328 Apr 26 16:47 \u001b[34me31c126f-2b8c-48a4-9e03-bfc36492770d\u001b[m\u001b[m\r\n"
     ]
    }
   ],
   "source": [
    "!ls -l ./ts_outputs/train/"
   ]
  },
  {
   "cell_type": "code",
   "execution_count": 19,
   "metadata": {},
   "outputs": [
    {
     "name": "stdout",
     "output_type": "stream",
     "text": [
      "Training Run e31c126f-2b8c-48a4-9e03-bfc36492770d\n",
      "None\n"
     ]
    }
   ],
   "source": [
    "training_run_names = training_run_catalog.list_candidates()\n",
    "for training_run_name in training_run_names:\n",
    "    print( f'Training Run {training_run_name}')\n",
    "    tr = LocalRun(training_run_name, os.path.join(tdir,training_run_name))"
   ]
  },
  {
   "cell_type": "code",
   "execution_count": 30,
   "metadata": {},
   "outputs": [
    {
     "data": {
      "text/plain": [
       "['Rank:0',\n",
       " 'gradients/Pow_grad/Pow:0',\n",
       " 'gradients/Pow_grad/mul:0',\n",
       " 'gradients/sub_grad/Neg:0',\n",
       " 'gradients/cost_grad/range/delta:0',\n",
       " 'gradients/cost_grad/Tile:0',\n",
       " 'gradients/sub_grad/tuple/control_dependency:0',\n",
       " 'gradients/Y_hat_grad/Shape_1:0',\n",
       " 'gradients/cost_grad/DynamicStitch:0',\n",
       " 'gradients/grad_ys_0:0']"
      ]
     },
     "execution_count": 30,
     "metadata": {},
     "output_type": "execute_result"
    }
   ],
   "source": [
    "tr.step(340).get_tensornames()[:10]"
   ]
  },
  {
   "cell_type": "code",
   "execution_count": 28,
   "metadata": {},
   "outputs": [],
   "source": [
    "mul = tr.step(340).get_tensor('gradients/product_grad/Mul:0').as_numpy()"
   ]
  },
  {
   "cell_type": "code",
   "execution_count": 29,
   "metadata": {},
   "outputs": [
    {
     "data": {
      "text/plain": [
       "(256,)"
      ]
     },
     "execution_count": 29,
     "metadata": {},
     "output_type": "execute_result"
    }
   ],
   "source": [
    "mul.shape"
   ]
  },
  {
   "cell_type": "code",
   "execution_count": null,
   "metadata": {},
   "outputs": [],
   "source": []
  }
 ],
 "metadata": {
  "kernelspec": {
   "display_name": "Python 3",
   "language": "python",
   "name": "python3"
  },
  "language_info": {
   "codemirror_mode": {
    "name": "ipython",
    "version": 3
   },
   "file_extension": ".py",
   "mimetype": "text/x-python",
   "name": "python",
   "nbconvert_exporter": "python",
   "pygments_lexer": "ipython3",
   "version": "3.6.4"
  }
 },
 "nbformat": 4,
 "nbformat_minor": 2
}

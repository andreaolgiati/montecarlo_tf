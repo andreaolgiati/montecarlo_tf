{
 "cells": [
  {
   "cell_type": "markdown",
   "metadata": {},
   "source": [
    "# Simple Montecarlo Example"
   ]
  },
  {
   "cell_type": "code",
   "execution_count": 1,
   "metadata": {},
   "outputs": [],
   "source": [
    "%load_ext autoreload\n",
    "%autoreload 2"
   ]
  },
  {
   "cell_type": "code",
   "execution_count": 29,
   "metadata": {},
   "outputs": [],
   "source": [
    "def all_vals(run, name):\n",
    "    vs = []\n",
    "    for st in run.getsteps():\n",
    "        v = run.step(st).get_tensor(name).as_numpy()\n",
    "        vs.append(v)\n",
    "    return np.array(vs)"
   ]
  },
  {
   "cell_type": "markdown",
   "metadata": {},
   "source": [
    "This notebook will show how to run Montecarlo to capture the inputs/outputs/intermediate layers of an inference run and compare it with the corresponding data from the training run"
   ]
  },
  {
   "cell_type": "markdown",
   "metadata": {},
   "source": [
    "## Train a Simple Model"
   ]
  },
  {
   "cell_type": "markdown",
   "metadata": {},
   "source": [
    "This very simple model learns the coefficients of a simple linear equation: `y_hat=Wx+b`. The data we feed to it follows the formula `y=5x+1`, so we should converge to `W==5` and `b==1`"
   ]
  },
  {
   "cell_type": "code",
   "execution_count": 3,
   "metadata": {},
   "outputs": [
    {
     "name": "stdout",
     "output_type": "stream",
     "text": [
      "2019-04-18 10:16:31.355871: I tensorflow/core/platform/cpu_feature_guard.cc:141] Your CPU supports instructions that this TensorFlow binary was not compiled to use: AVX2 FMA\n",
      "Epoch: 0001 cost= 6721.340820312 W= 2.3675923 b= 0.8477539\n",
      "Epoch: 0101 cost= 123.101486206 W= 4.668736 b= 0.8997093\n",
      "Epoch: 0201 cost= 2.549396992 W= 4.958542 b= 0.94027495\n",
      "Epoch: 0301 cost= 0.329603940 W= 4.994855 b= 0.9643348\n",
      "Epoch: 0401 cost= 0.118118107 W= 4.999462 b= 0.9786624\n",
      "Epoch: 0501 cost= 0.041727878 W= 4.9999423 b= 0.9872289\n",
      "Epoch: 0601 cost= 0.014956966 W= 4.999992 b= 0.9923562\n",
      "Epoch: 0701 cost= 0.005347713 W= 5.000022 b= 0.9954251\n",
      "Epoch: 0801 cost= 0.001918845 W= 4.9999933 b= 0.9972619\n",
      "Epoch: 0901 cost= 0.000687572 W= 4.9999895 b= 0.9983698\n",
      "Optimization Finished!\n",
      "Training cost= 0.00024611675 W= 5.0000043 b= 0.9990243\n"
     ]
    }
   ],
   "source": [
    "!rm -rf ts_outputs/train\n",
    "!rm -rf model\n",
    "!python ./simplemodel_train.py --mean 0 --stddev 2 --batchsize 256 --epochs 1000"
   ]
  },
  {
   "cell_type": "markdown",
   "metadata": {},
   "source": [
    "This will deposit a model in `./model`"
   ]
  },
  {
   "cell_type": "code",
   "execution_count": 4,
   "metadata": {},
   "outputs": [
    {
     "name": "stdout",
     "output_type": "stream",
     "text": [
      "total 48\r\n",
      "-rw-r--r--  1 olg  ANT\\Domain Users     67 Apr 18 10:16 checkpoint\r\n",
      "-rw-r--r--  1 olg  ANT\\Domain Users      8 Apr 18 10:16 model.data-00000-of-00001\r\n",
      "-rw-r--r--  1 olg  ANT\\Domain Users    142 Apr 18 10:16 model.index\r\n",
      "-rw-r--r--  1 olg  ANT\\Domain Users  35877 Apr 18 10:16 model.meta\r\n"
     ]
    }
   ],
   "source": [
    "!ls -l ./model/"
   ]
  },
  {
   "cell_type": "markdown",
   "metadata": {},
   "source": [
    "And will deposit the Tornasole/Montecarlo data in `./ts_output/train/`\n"
   ]
  },
  {
   "cell_type": "code",
   "execution_count": 5,
   "metadata": {},
   "outputs": [
    {
     "name": "stdout",
     "output_type": "stream",
     "text": [
      "total 0\r\n",
      "drwxr-xr-x  104 olg  ANT\\Domain Users  3328 Apr 18 10:16 \u001b[34mecffef59-f2df-48e9-ae52-f81671adb1f2\u001b[m\u001b[m\r\n"
     ]
    }
   ],
   "source": [
    "!ls -l ./ts_outputs/train/"
   ]
  },
  {
   "cell_type": "markdown",
   "metadata": {},
   "source": [
    "## Run Inference on the Trained Model"
   ]
  },
  {
   "cell_type": "markdown",
   "metadata": {},
   "source": [
    "Now we load the model we previously deposited in `./model` and run inference. The Tornasole/Montecarlo traces will be deposited in `./ts_output/infer`. We only trace three tensors: `X:0` (the input), `product:0` (an intermediate result), `Y_hat:0` (the output).\n",
    "\n",
    "Let's pretend we have a run with inputs having a different statistical distribution from the training data: `mean=3`, `stddev=6`. We also choose a batch size of 17 (just because) and run for 1000 steps, evaluating a total of 17,000 input samples."
   ]
  },
  {
   "cell_type": "code",
   "execution_count": 37,
   "metadata": {},
   "outputs": [
    {
     "name": "stdout",
     "output_type": "stream",
     "text": [
      "2019-04-18 10:36:37.808473: I tensorflow/core/platform/cpu_feature_guard.cc:141] Your CPU supports instructions that this TensorFlow binary was not compiled to use: AVX2 FMA\n",
      "Running sample 0\n",
      "Running sample 100\n",
      "Running sample 200\n",
      "Running sample 300\n",
      "Running sample 400\n",
      "Running sample 500\n",
      "Running sample 600\n",
      "Running sample 700\n",
      "Running sample 800\n",
      "Running sample 900\n"
     ]
    }
   ],
   "source": [
    "!rm -rf ts_outputs/infer\n",
    "!python simplemodel_infer.py --mean 3 --stddev 6 --batchsize 17 --steps 1000"
   ]
  },
  {
   "cell_type": "markdown",
   "metadata": {},
   "source": [
    "The output of the Montecarlo trace is deposited in `ts_outputs/infer/`. Each directory shown below contains the trace for a single batch (of size==17, in this case)"
   ]
  },
  {
   "cell_type": "code",
   "execution_count": 34,
   "metadata": {},
   "outputs": [
    {
     "name": "stdout",
     "output_type": "stream",
     "text": [
      "total 0\r\n",
      "drwxr-xr-x  3 olg  ANT\\Domain Users  96 Apr 18 10:35 0\r\n",
      "drwxr-xr-x  3 olg  ANT\\Domain Users  96 Apr 18 10:35 1\r\n",
      "drwxr-xr-x  3 olg  ANT\\Domain Users  96 Apr 18 10:35 10\r\n",
      "drwxr-xr-x  3 olg  ANT\\Domain Users  96 Apr 18 10:35 100\r\n",
      "drwxr-xr-x  3 olg  ANT\\Domain Users  96 Apr 18 10:35 101\r\n",
      "drwxr-xr-x  3 olg  ANT\\Domain Users  96 Apr 18 10:35 102\r\n",
      "drwxr-xr-x  3 olg  ANT\\Domain Users  96 Apr 18 10:35 103\r\n",
      "drwxr-xr-x  3 olg  ANT\\Domain Users  96 Apr 18 10:35 104\r\n",
      "drwxr-xr-x  3 olg  ANT\\Domain Users  96 Apr 18 10:35 105\r\n"
     ]
    }
   ],
   "source": [
    "!ls -l ./ts_outputs/infer/*/ | head"
   ]
  },
  {
   "cell_type": "markdown",
   "metadata": {},
   "source": [
    "## Running MonteCarlo"
   ]
  },
  {
   "cell_type": "markdown",
   "metadata": {},
   "source": [
    "Now we have traces for a single training run, which ran for multiple batches, in `./ts_outputs/train/`, and a single inference run, which ran for 1000 batches of size==17, in `./ts_outputs/infer/`. \n",
    "\n",
    "Let's say that we want to compare the distribution of inputs, intermediate results, and outputs."
   ]
  },
  {
   "cell_type": "code",
   "execution_count": 21,
   "metadata": {},
   "outputs": [],
   "source": [
    "%matplotlib inline\n",
    "\n",
    "import matplotlib\n",
    "import numpy as np\n",
    "import matplotlib.pyplot as plt\n",
    "import os\n",
    "import sys\n",
    "\n",
    "from tornasole_rules.run_catalog import LocalRunCatalog\n",
    "from tornasole_rules.run import LocalRun\n",
    "\n",
    "tdir = \"./ts_outputs/train\"\n",
    "idir = \"./ts_outputs/infer\"\n",
    "\n",
    "# We scan the disc to find the training run\n",
    "training_run_catalog = LocalRunCatalog(tdir)\n",
    "inference_run_catalog = LocalRunCatalog(idir)\n"
   ]
  },
  {
   "cell_type": "markdown",
   "metadata": {},
   "source": [
    "First we ask Montecarlo to list all the training runs it knows something about"
   ]
  },
  {
   "cell_type": "code",
   "execution_count": 22,
   "metadata": {},
   "outputs": [
    {
     "name": "stdout",
     "output_type": "stream",
     "text": [
      "Training Run ecffef59-f2df-48e9-ae52-f81671adb1f2\n",
      "None\n"
     ]
    }
   ],
   "source": [
    "training_run_names = training_run_catalog.list_candidates()\n",
    "for training_run_name in training_run_names:\n",
    "    print( f'Training Run {training_run_name}')\n",
    "    tr = LocalRun(training_run_name, os.path.join(tdir,training_run_name))"
   ]
  },
  {
   "cell_type": "markdown",
   "metadata": {},
   "source": [
    "Then all the inference runs it knows about. In the SageMaker world, a single endpoint would constitute a Run"
   ]
  },
  {
   "cell_type": "code",
   "execution_count": 55,
   "metadata": {},
   "outputs": [
    {
     "name": "stdout",
     "output_type": "stream",
     "text": [
      "Inference Run 42cbf42b-b2c1-46eb-86a4-9d8d64549b21\n",
      "None\n"
     ]
    }
   ],
   "source": [
    "inference_run_names = inference_run_catalog.list_candidates()\n",
    "for inference_run_name in inference_run_names:\n",
    "    print( f'Inference Run {inference_run_name}')\n",
    "    ir = LocalRun(inference_run_name, os.path.join(idir,inference_run_name))\n"
   ]
  },
  {
   "cell_type": "markdown",
   "metadata": {},
   "source": [
    "We can plot the input distributions of the tensor called `X:0` (the input), respectively in the training and inference runs"
   ]
  },
  {
   "cell_type": "code",
   "execution_count": 57,
   "metadata": {},
   "outputs": [
    {
     "data": {
      "image/png": "[encoded data removed]",
      "text/plain": [
       "<Figure size 432x288 with 1 Axes>"
      ]
     },
     "metadata": {},
     "output_type": "display_data"
    }
   ],
   "source": [
    "xs_train = all_vals(tr,\"X:0\").flatten()\n",
    "xs_infer = all_vals(ir,\"X:0\").flatten()\n",
    "plt.hist(xs_train, bins=50, alpha=0.5, label=\"Training inputs\")\n",
    "plt.hist(xs_infer, bins=50, alpha=0.5, label=\"Inference inputs\")\n",
    "plt.legend()\n",
    "plt.show()"
   ]
  },
  {
   "cell_type": "markdown",
   "metadata": {},
   "source": [
    "We can also look at values _inside_, say a tensor named `product:0`. Again, note the difference between training and inference."
   ]
  },
  {
   "cell_type": "code",
   "execution_count": 58,
   "metadata": {},
   "outputs": [
    {
     "data": {
      "image/png": "[encoded data removed]",
      "text/plain": [
       "<Figure size 432x288 with 1 Axes>"
      ]
     },
     "metadata": {},
     "output_type": "display_data"
    }
   ],
   "source": [
    "product_train = all_vals(tr, \"product:0\").flatten()\n",
    "product_infer = all_vals(ir, \"product:0\").flatten()\n",
    "\n",
    "plt.hist(product_train, bins=50, alpha=0.5, label=\"Training intermediate product\")\n",
    "plt.hist(product_infer, bins=50, alpha=0.5, label=\"Inference intermediate product\")\n",
    "plt.legend()\n",
    "plt.show()"
   ]
  },
  {
   "cell_type": "markdown",
   "metadata": {},
   "source": [
    "And finally, the outputs:\n",
    "- training (actual): `Y:0`\n",
    "- training (predicted): `Y_hat:0`\n",
    "- inference (predicted): `Y_hat:0`"
   ]
  },
  {
   "cell_type": "code",
   "execution_count": 59,
   "metadata": {},
   "outputs": [
    {
     "data": {
      "image/png": "[encoded data removed]",
      "text/plain": [
       "<Figure size 432x288 with 1 Axes>"
      ]
     },
     "metadata": {},
     "output_type": "display_data"
    }
   ],
   "source": [
    "output_actual_train = all_vals(tr, \"Y:0\").flatten()\n",
    "output_predicted_train = all_vals(tr, \"Y_hat:0\").flatten()\n",
    "output_predicted_infer = all_vals(ir, \"Y_hat:0\").flatten()\n",
    "\n",
    "\n",
    "plt.hist(output_actual_train, bins=50, alpha=0.5, label=\"Training actual output\")\n",
    "plt.hist(output_predicted_train, bins=50, alpha=0.5, label=\"Training predicted output\")\n",
    "plt.hist(output_predicted_infer, bins=50, alpha=0.5, label=\"Inference predicted output\")\n",
    "plt.legend()\n",
    "plt.show()"
   ]
  }
 ],
 "metadata": {
  "kernelspec": {
   "display_name": "Python 3",
   "language": "python",
   "name": "python3"
  },
  "language_info": {
   "codemirror_mode": {
    "name": "ipython",
    "version": 3
   },
   "file_extension": ".py",
   "mimetype": "text/x-python",
   "name": "python",
   "nbconvert_exporter": "python",
   "pygments_lexer": "ipython3",
   "version": "3.6.4"
  }
 },
 "nbformat": 4,
 "nbformat_minor": 2
}
